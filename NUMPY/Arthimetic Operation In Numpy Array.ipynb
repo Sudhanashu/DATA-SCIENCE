{
 "cells": [
  {
   "cell_type": "code",
   "execution_count": 1,
   "metadata": {},
   "outputs": [
    {
     "name": "stdout",
     "output_type": "stream",
     "text": [
      "[4 5 6 7 8]\n"
     ]
    }
   ],
   "source": [
    "#arthemitc operation\n",
    "#addition of a constant term with each element of array in 1-dimensional array\n",
    "import numpy as np\n",
    "\n",
    "var = np.array([1,2,3,4,5])\n",
    "\n",
    "varadd = var + 3\n",
    "\n",
    "print(varadd)"
   ]
  },
  {
   "cell_type": "code",
   "execution_count": 2,
   "metadata": {},
   "outputs": [
    {
     "name": "stdout",
     "output_type": "stream",
     "text": [
      "[ 7  9 11 13 15]\n"
     ]
    }
   ],
   "source": [
    "#addition of two 1-dimensional arrays\n",
    "\n",
    "var1 = np.array([1,2,3,4,5])\n",
    "var2 = np.array([6,7,8,9,10])\n",
    "\n",
    "varadd = var1 + var2\n",
    "\n",
    "print(varadd)"
   ]
  },
  {
   "cell_type": "code",
   "execution_count": 3,
   "metadata": {},
   "outputs": [
    {
     "name": "stdout",
     "output_type": "stream",
     "text": [
      "[-2 -1  0  1  2]\n"
     ]
    }
   ],
   "source": [
    "#arthemitc operation\n",
    "#subtraction of a constant term with each element of array in 1-dimensional array\n",
    "import numpy as np\n",
    "\n",
    "var = np.array([1,2,3,4,5])\n",
    "\n",
    "varsub = var - 3\n",
    "\n",
    "print(varsub)"
   ]
  },
  {
   "cell_type": "code",
   "execution_count": 4,
   "metadata": {},
   "outputs": [
    {
     "name": "stdout",
     "output_type": "stream",
     "text": [
      "[-5 -5 -5 -5 -5]\n"
     ]
    }
   ],
   "source": [
    "#subtraction of two 1-dimensional arrays\n",
    "\n",
    "var1 = np.array([1,2,3,4,5])\n",
    "var2 = np.array([6,7,8,9,10])\n",
    "\n",
    "varsub = var1 - var2\n",
    "\n",
    "print(varsub)"
   ]
  },
  {
   "cell_type": "code",
   "execution_count": 6,
   "metadata": {},
   "outputs": [
    {
     "name": "stdout",
     "output_type": "stream",
     "text": [
      "[1 2 3 4 5]\n"
     ]
    }
   ],
   "source": [
    "#arthemitc operation\n",
    "#multiplication of a constant term with each element of array in 1-dimensional array\n",
    "import numpy as np\n",
    "\n",
    "varmul = np.array([1,2,3,4,5])\n",
    "\n",
    "varsub = var * 3\n",
    "\n",
    "print(varmul)"
   ]
  },
  {
   "cell_type": "code",
   "execution_count": 7,
   "metadata": {},
   "outputs": [
    {
     "name": "stdout",
     "output_type": "stream",
     "text": [
      "[ 6 14 24 36 50]\n"
     ]
    }
   ],
   "source": [
    "#multiplication of two 1-dimensional arrays\n",
    "\n",
    "var1 = np.array([1,2,3,4,5])\n",
    "var2 = np.array([6,7,8,9,10])\n",
    "\n",
    "varmul = var1 * var2\n",
    "\n",
    "print(varmul)"
   ]
  },
  {
   "cell_type": "code",
   "execution_count": 8,
   "metadata": {},
   "outputs": [
    {
     "name": "stdout",
     "output_type": "stream",
     "text": [
      "[1 2 0 1 2]\n"
     ]
    }
   ],
   "source": [
    "#arthemitc operation\n",
    "#division of a constant term with each element of array in 1-dimensional array\n",
    "import numpy as np\n",
    "\n",
    "varmul = np.array([1,2,3,4,5])\n",
    "\n",
    "vardiv = var % 3\n",
    "\n",
    "print(vardiv)"
   ]
  },
  {
   "cell_type": "code",
   "execution_count": 9,
   "metadata": {},
   "outputs": [
    {
     "name": "stdout",
     "output_type": "stream",
     "text": [
      "[1 2 3 4 5]\n"
     ]
    }
   ],
   "source": [
    "#division of two 1-dimensional arrays\n",
    "\n",
    "var1 = np.array([1,2,3,4,5])\n",
    "var2 = np.array([6,7,8,9,10])\n",
    "\n",
    "vardiv = var1 % var2\n",
    "\n",
    "print(vardiv)"
   ]
  },
  {
   "cell_type": "code",
   "execution_count": 12,
   "metadata": {},
   "outputs": [
    {
     "name": "stdout",
     "output_type": "stream",
     "text": [
      "[[ 1  2  3  4  5]\n",
      " [ 6  7  8  9 10]]\n",
      "\n",
      "[[ 1  2  3  4  5]\n",
      " [ 6  7  8  9 10]]\n",
      "\n",
      "[[ 2  4  6  8 10]\n",
      " [12 14 16 18 20]]\n"
     ]
    }
   ],
   "source": [
    "#addition in 2-dimensional array\n",
    "\n",
    "var21 = np.array([[1,2,3,4,5],[6,7,8,9,10]])\n",
    "var22 = np.array([[1,2,3,4,5],[6,7,8,9,10]])\n",
    "\n",
    "print(var21)\n",
    "print()\n",
    "\n",
    "print(var22)\n",
    "print()\n",
    "\n",
    "varadd2 = var21 + var22\n",
    "\n",
    "print(varadd2)"
   ]
  }
 ],
 "metadata": {
  "kernelspec": {
   "display_name": "Python 3",
   "language": "python",
   "name": "python3"
  },
  "language_info": {
   "codemirror_mode": {
    "name": "ipython",
    "version": 3
   },
   "file_extension": ".py",
   "mimetype": "text/x-python",
   "name": "python",
   "nbconvert_exporter": "python",
   "pygments_lexer": "ipython3",
   "version": "3.12.0"
  }
 },
 "nbformat": 4,
 "nbformat_minor": 2
}
