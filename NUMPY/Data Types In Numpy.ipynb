{
 "cells": [
  {
   "cell_type": "code",
   "execution_count": 1,
   "metadata": {},
   "outputs": [
    {
     "name": "stdout",
     "output_type": "stream",
     "text": [
      "Data type :  int32\n"
     ]
    }
   ],
   "source": [
    "#DATA TYPE\n",
    "#integer\n",
    "\n",
    "import numpy as np\n",
    "\n",
    "var = np.array([1,2,3,4,5])\n",
    "print(\"Data type : \", var.dtype)"
   ]
  },
  {
   "cell_type": "code",
   "execution_count": 2,
   "metadata": {},
   "outputs": [
    {
     "name": "stdout",
     "output_type": "stream",
     "text": [
      "Data type :  float64\n"
     ]
    }
   ],
   "source": [
    "#float\n",
    "\n",
    "import numpy as np\n",
    "\n",
    "var = np.array([1.0,2.0,3.0,4.0,5.0])\n",
    "print(\"Data type : \", var.dtype)"
   ]
  },
  {
   "cell_type": "code",
   "execution_count": 3,
   "metadata": {},
   "outputs": [
    {
     "name": "stdout",
     "output_type": "stream",
     "text": [
      "Data type :  <U1\n"
     ]
    }
   ],
   "source": [
    "#string\n",
    "\n",
    "import numpy as np\n",
    "\n",
    "var = np.array([\"A\",\"B\",\"C\",\"D\",\"E\"])\n",
    "print(\"Data type : \", var.dtype)"
   ]
  },
  {
   "cell_type": "code",
   "execution_count": 4,
   "metadata": {},
   "outputs": [
    {
     "name": "stdout",
     "output_type": "stream",
     "text": [
      "Data type :  <U11\n"
     ]
    }
   ],
   "source": [
    "import numpy as np\n",
    "\n",
    "var = np.array([\"A\",\"B\",\"C\",\"D\",\"E\",1,2,3,4,5])\n",
    "print(\"Data type : \", var.dtype)"
   ]
  },
  {
   "cell_type": "code",
   "execution_count": 6,
   "metadata": {},
   "outputs": [
    {
     "name": "stdout",
     "output_type": "stream",
     "text": [
      "Data type :  int8\n",
      "[1 2 3 4 5]\n"
     ]
    }
   ],
   "source": [
    " #conversion of int32 to int8 data type\n",
    "x = np.array([1,2,3 ,4,5],dtype = np.int8)\n",
    "\n",
    "print(\"Data type : \", x.dtype)\n",
    "print(x)"
   ]
  },
  {
   "cell_type": "code",
   "execution_count": 7,
   "metadata": {},
   "outputs": [
    {
     "name": "stdout",
     "output_type": "stream",
     "text": [
      "Data type :  float32\n",
      "[1. 2. 3. 4. 5.]\n"
     ]
    }
   ],
   "source": [
    "#conversion of int data type to float data type\n",
    "x1 = np.array([1,2,3 ,4,5],dtype = \"f\")\n",
    "\n",
    "print(\"Data type : \", x1.dtype)\n",
    "print(x1)"
   ]
  },
  {
   "cell_type": "code",
   "execution_count": 9,
   "metadata": {},
   "outputs": [
    {
     "name": "stdout",
     "output_type": "stream",
     "text": [
      "Data Type : int32\n",
      "Data type :  float32\n",
      "[1 2 3 4 5]\n",
      "[1. 2. 3. 4. 5.]\n"
     ]
    }
   ],
   "source": [
    "#conversion of int data type to float data type through function\n",
    "x2 = np.array([1,2,3 ,4,5])\n",
    "\n",
    "new = np.float32(x2)\n",
    "\n",
    "print(\"Data Type :\", x2.dtype)\n",
    "print(\"Data type : \", new.dtype)\n",
    "\n",
    "print(x2)\n",
    "print(new)"
   ]
  },
  {
   "cell_type": "code",
   "execution_count": 11,
   "metadata": {},
   "outputs": [
    {
     "name": "stdout",
     "output_type": "stream",
     "text": [
      "Data Type : int32\n",
      "Data type :  float32\n",
      "Data type :  int32\n",
      "[1 2 3 4 5]\n",
      "[1. 2. 3. 4. 5.]\n",
      "[1 2 3 4 5]\n"
     ]
    }
   ],
   "source": [
    "#conversion of float data type to int data type through function\n",
    "x2 = np.array([1,2,3 ,4,5])\n",
    "\n",
    "new = np.float32(x2)\n",
    "\n",
    "new_one = np.int_(new)\n",
    "\n",
    "print(\"Data Type :\", x2.dtype)\n",
    "print(\"Data type : \", new.dtype)\n",
    "print(\"Data type : \", new_one.dtype)\n",
    "\n",
    "print(x2)\n",
    "print(new)\n",
    "print(new_one)"
   ]
  },
  {
   "cell_type": "code",
   "execution_count": 12,
   "metadata": {},
   "outputs": [
    {
     "name": "stdout",
     "output_type": "stream",
     "text": [
      "[1 2 3 4 5]\n",
      "[1. 2. 3. 4. 5.]\n"
     ]
    }
   ],
   "source": [
    "#conversion of data types directly by using astype function\n",
    "\n",
    "x3 = np.array([1,2,3,4,5])\n",
    "\n",
    "new_1 = x3.astype(float)\n",
    "\n",
    "print(x3)\n",
    "print(new_1)"
   ]
  }
 ],
 "metadata": {
  "kernelspec": {
   "display_name": "Python 3",
   "language": "python",
   "name": "python3"
  },
  "language_info": {
   "codemirror_mode": {
    "name": "ipython",
    "version": 3
   },
   "file_extension": ".py",
   "mimetype": "text/x-python",
   "name": "python",
   "nbconvert_exporter": "python",
   "pygments_lexer": "ipython3",
   "version": "3.12.0"
  }
 },
 "nbformat": 4,
 "nbformat_minor": 2
}
