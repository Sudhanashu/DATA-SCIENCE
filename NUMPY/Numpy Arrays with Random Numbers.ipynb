{
 "cells": [
  {
   "cell_type": "code",
   "execution_count": 1,
   "metadata": {},
   "outputs": [
    {
     "name": "stdout",
     "output_type": "stream",
     "text": [
      "[0.15330225 0.08612799 0.810479   0.30790706]\n"
     ]
    }
   ],
   "source": [
    "#creating random numpy array with Rand() function\n",
    "# rand(): this function is used to generate a random value between o to 1\n",
    "import numpy as np\n",
    "\n",
    "var = np.random.rand(4)\n",
    "\n",
    "print(var)"
   ]
  },
  {
   "cell_type": "code",
   "execution_count": 2,
   "metadata": {},
   "outputs": [
    {
     "name": "stdout",
     "output_type": "stream",
     "text": [
      "[[0.30341805 0.08901575 0.58167544 0.16612762 0.05664077]\n",
      " [0.18479007 0.90031292 0.36410889 0.06829219 0.41764175]]\n"
     ]
    }
   ],
   "source": [
    "#to be continued\n",
    "var1 = np.random.rand(2,5)\n",
    "\n",
    "print(var1)"
   ]
  },
  {
   "cell_type": "code",
   "execution_count": 3,
   "metadata": {},
   "outputs": [
    {
     "name": "stdout",
     "output_type": "stream",
     "text": [
      "[ 1.58520008 -0.16673476 -0.27811689  2.0670627   0.50094898]\n"
     ]
    }
   ],
   "source": [
    "#creating random numpy array with randn() function\n",
    "# randn(): this function is used to generate a random value close to zero this may return positive or negative numbers as well\n",
    "import numpy as np\n",
    "\n",
    "var2 = np.random.randn(5)\n",
    "print(var2)"
   ]
  },
  {
   "cell_type": "code",
   "execution_count": 4,
   "metadata": {},
   "outputs": [
    {
     "name": "stdout",
     "output_type": "stream",
     "text": [
      "[[-0.25195424 -0.63608626  0.19850304  0.36114031  0.04103937]\n",
      " [ 1.12075104 -0.68405914  1.44320475  1.30712936 -0.28181399]]\n"
     ]
    }
   ],
   "source": [
    "#to be continued\n",
    "var2 = np.random.randn(2,5)\n",
    "\n",
    "print(var2)"
   ]
  },
  {
   "cell_type": "code",
   "execution_count": 6,
   "metadata": {},
   "outputs": [
    {
     "name": "stdout",
     "output_type": "stream",
     "text": [
      "[0.8460343  0.36757278 0.85832571 0.95892361]\n"
     ]
    }
   ],
   "source": [
    "#creating random numpy array with ranf() function\n",
    "# randn(): this function is used to generate a random value between o to 1 but 0 is included but 1 is excluded means array will be [0.0,1.0)\n",
    "import numpy as np\n",
    "\n",
    "var3 = np.random.ranf(4)\n",
    "\n",
    "print(var3)\n",
    "\n"
   ]
  },
  {
   "cell_type": "code",
   "execution_count": 9,
   "metadata": {},
   "outputs": [
    {
     "name": "stdout",
     "output_type": "stream",
     "text": [
      "[[0.35430422 0.26657539 0.36211042 0.33249712 0.19115903]\n",
      " [0.26804286 0.30535547 0.86860283 0.58909557 0.58261854]]\n"
     ]
    }
   ],
   "source": [
    "#to be continued\n",
    "import numpy as np\n",
    "\n",
    "var2 = np.random.ranf((2, 5))\n",
    "\n",
    "print(var2)\n"
   ]
  },
  {
   "cell_type": "code",
   "execution_count": 10,
   "metadata": {},
   "outputs": [
    {
     "name": "stdout",
     "output_type": "stream",
     "text": [
      "[15 19  8 11 15]\n"
     ]
    }
   ],
   "source": [
    "#creating random numpy array with randint() function\n",
    "#randint(): this function is used to generate a random value in a given range \n",
    "\n",
    "import numpy as np\n",
    "\n",
    "var4 = np.random.randint(5,20,5)\n",
    "\n",
    "print(var4)"
   ]
  },
  {
   "cell_type": "code",
   "execution_count": 11,
   "metadata": {},
   "outputs": [
    {
     "name": "stdout",
     "output_type": "stream",
     "text": [
      "[11 12 15 37 34 16 32 25 33 19]\n"
     ]
    }
   ],
   "source": [
    "#to be continued\n",
    "import numpy as np\n",
    "\n",
    "var4 = np.random.randint(10,50,10)\n",
    "\n",
    "print(var4)"
   ]
  }
 ],
 "metadata": {
  "kernelspec": {
   "display_name": "Python 3",
   "language": "python",
   "name": "python3"
  },
  "language_info": {
   "codemirror_mode": {
    "name": "ipython",
    "version": 3
   },
   "file_extension": ".py",
   "mimetype": "text/x-python",
   "name": "python",
   "nbconvert_exporter": "python",
   "pygments_lexer": "ipython3",
   "version": "3.12.0"
  }
 },
 "nbformat": 4,
 "nbformat_minor": 2
}
