{
 "cells": [
  {
   "cell_type": "code",
   "execution_count": 1,
   "metadata": {},
   "outputs": [
    {
     "name": "stdout",
     "output_type": "stream",
     "text": [
      "[[1 2 3]\n",
      " [1 2 3]]\n",
      "<class 'numpy.matrix'>\n"
     ]
    }
   ],
   "source": [
    "#MATRIX\n",
    "\n",
    "import numpy as np\n",
    "\n",
    "var = np.matrix([[1,2,3],[1,2,3]])\n",
    "\n",
    "print(var)\n",
    "print(type(var))"
   ]
  },
  {
   "cell_type": "code",
   "execution_count": 2,
   "metadata": {},
   "outputs": [
    {
     "name": "stdout",
     "output_type": "stream",
     "text": [
      "[[1 2 3]\n",
      " [1 2 3]]\n",
      "<class 'numpy.ndarray'>\n"
     ]
    }
   ],
   "source": [
    "var1 = np.array([[1,2,3],[1,2,3]])\n",
    "\n",
    "print(var1)\n",
    "print(type(var1))"
   ]
  },
  {
   "cell_type": "code",
   "execution_count": 7,
   "metadata": {},
   "outputs": [
    {
     "name": "stdout",
     "output_type": "stream",
     "text": [
      "[[1 2 3]\n",
      " [1 2 3]]\n",
      "<class 'numpy.matrix'>\n",
      "\n",
      "[[2 4 6]\n",
      " [2 4 6]]\n"
     ]
    }
   ],
   "source": [
    "#matrix addition\n",
    "import numpy as np\n",
    "\n",
    "var = np.matrix([[1,2,3],[1,2,3]])\n",
    "var2 = np.matrix([[1,2,3],[1,2,3]])\n",
    "\n",
    "print(var)\n",
    "print(type(var))\n",
    "print()\n",
    "print(var+var2)"
   ]
  },
  {
   "cell_type": "code",
   "execution_count": 6,
   "metadata": {},
   "outputs": [
    {
     "name": "stdout",
     "output_type": "stream",
     "text": [
      "[[1 2 3]\n",
      " [1 2 3]]\n",
      "<class 'numpy.matrix'>\n",
      "\n",
      "[[0 0 0]\n",
      " [0 0 0]]\n"
     ]
    }
   ],
   "source": [
    "#matrix subtraction\n",
    "import numpy as np\n",
    "\n",
    "var = np.matrix([[1,2,3],[1,2,3]])\n",
    "var2 = np.matrix([[1,2,3],[1,2,3]])\n",
    "\n",
    "print(var)\n",
    "print(type(var))\n",
    "print()\n",
    "print(var-var2)"
   ]
  },
  {
   "cell_type": "code",
   "execution_count": 9,
   "metadata": {},
   "outputs": [
    {
     "name": "stdout",
     "output_type": "stream",
     "text": [
      "[[1 2]\n",
      " [1 2]]\n",
      "<class 'numpy.matrix'>\n",
      "\n",
      "[[3 6]\n",
      " [3 6]]\n",
      "\n",
      "[[3 6]\n",
      " [3 6]]\n"
     ]
    }
   ],
   "source": [
    "#matrix multiplication\n",
    "\n",
    "import numpy as np\n",
    "\n",
    "var = np.matrix([[1,2],[1,2]])\n",
    "var2 = np.matrix([[1,2],[1,2]])\n",
    "\n",
    "print(var)\n",
    "print(type(var))\n",
    "print()\n",
    "print(var*var2)\n",
    "print()\n",
    "\n",
    "print(var.dot(var2))"
   ]
  },
  {
   "cell_type": "code",
   "execution_count": 10,
   "metadata": {},
   "outputs": [
    {
     "name": "stdout",
     "output_type": "stream",
     "text": [
      "[[1 2 3]\n",
      " [1 2 3]]\n",
      "<class 'numpy.ndarray'>\n",
      "\n",
      "[[1 4 9]\n",
      " [1 4 9]]\n"
     ]
    }
   ],
   "source": [
    "#ARRAY multiplication\n",
    "\n",
    "var1 = np.array([[1,2,3],[1,2,3]])\n",
    "\n",
    "print(var1)\n",
    "print(type(var1))\n",
    "print()\n",
    "print(var1*var1)"
   ]
  },
  {
   "cell_type": "code",
   "execution_count": 11,
   "metadata": {},
   "outputs": [
    {
     "name": "stdout",
     "output_type": "stream",
     "text": [
      "[[1 2 3]\n",
      " [1 2 3]]\n",
      "[[1 1]\n",
      " [2 2]\n",
      " [3 3]]\n"
     ]
    }
   ],
   "source": [
    "#TRANSPOSE MATRIX\n",
    "\n",
    "import numpy as np\n",
    "\n",
    "var = np.matrix([[1,2,3],[1,2,3]])\n",
    "\n",
    "print(var)\n",
    "\n",
    "print(np.transpose(var))"
   ]
  },
  {
   "cell_type": "code",
   "execution_count": 13,
   "metadata": {},
   "outputs": [
    {
     "name": "stdout",
     "output_type": "stream",
     "text": [
      "[[1 2 3]\n",
      " [1 2 3]]\n",
      "[[1 1]\n",
      " [2 2]\n",
      " [3 3]]\n"
     ]
    }
   ],
   "source": [
    "#TRANSPOSE MATRIX\n",
    "\n",
    "import numpy as np\n",
    "\n",
    "var = np.matrix([[1,2,3],[1,2,3]])\n",
    "\n",
    "print(var)\n",
    "\n",
    "print(var.T)"
   ]
  },
  {
   "cell_type": "code",
   "execution_count": 17,
   "metadata": {},
   "outputs": [
    {
     "name": "stdout",
     "output_type": "stream",
     "text": [
      "[[1 2 3]\n",
      " [1 2 3]]\n",
      "[[1 1]\n",
      " [2 2]\n",
      " [3 3]]\n"
     ]
    }
   ],
   "source": [
    "#SWAPAXES\n",
    "import numpy as np\n",
    "\n",
    "var = np.matrix([[1,2,3],[1,2,3]])\n",
    "\n",
    "print(var)\n",
    " \n",
    "print(np.swapaxes(var,0,1))\n"
   ]
  },
  {
   "cell_type": "code",
   "execution_count": 18,
   "metadata": {},
   "outputs": [
    {
     "name": "stdout",
     "output_type": "stream",
     "text": [
      "[[1 2]\n",
      " [1 2]]\n",
      "\n",
      "[[1 1]\n",
      " [2 2]]\n"
     ]
    }
   ],
   "source": [
    "#SWAPAXES\n",
    "import numpy as np\n",
    "\n",
    "var2 = np.matrix([[1,2],[1,2]])\n",
    "\n",
    "print(var2)\n",
    "print()\n",
    " \n",
    "print(np.swapaxes(var2,0,1))\n"
   ]
  },
  {
   "cell_type": "code",
   "execution_count": 20,
   "metadata": {},
   "outputs": [
    {
     "name": "stdout",
     "output_type": "stream",
     "text": [
      "[[1 2]\n",
      " [3 4]]\n",
      "\n",
      "[[-2.   1. ]\n",
      " [ 1.5 -0.5]]\n"
     ]
    }
   ],
   "source": [
    "#INVERSE MATRIX\n",
    "\n",
    "var2 = np.matrix([[1,2],[3,4]])\n",
    "\n",
    "print(var2)\n",
    "print()\n",
    "\n",
    "print(np.linalg.inv(var2))\n"
   ]
  },
  {
   "cell_type": "code",
   "execution_count": 22,
   "metadata": {},
   "outputs": [
    {
     "name": "stdout",
     "output_type": "stream",
     "text": [
      "[[1 2]\n",
      " [3 4]]\n",
      "\n",
      "[[ 7 10]\n",
      " [15 22]]\n",
      "\n"
     ]
    }
   ],
   "source": [
    "#POWER MATRIX\n",
    "\n",
    "var2 = np.matrix([[1,2],[3,4]])\n",
    "\n",
    "print(var2)\n",
    "print()\n",
    "\n",
    "print(np.linalg.matrix_power(var2,2))\n",
    "print()\n"
   ]
  },
  {
   "cell_type": "code",
   "execution_count": 23,
   "metadata": {},
   "outputs": [
    {
     "name": "stdout",
     "output_type": "stream",
     "text": [
      "[[1 2]\n",
      " [3 4]]\n",
      "\n",
      "[[1 0]\n",
      " [0 1]]\n",
      "\n"
     ]
    }
   ],
   "source": [
    "#POWER MATRIX\n",
    "\n",
    "var2 = np.matrix([[1,2],[3,4]])\n",
    "\n",
    "print(var2)\n",
    "print()\n",
    "\n",
    "print(np.linalg.matrix_power(var2,0))\n",
    "print()\n"
   ]
  },
  {
   "cell_type": "code",
   "execution_count": 24,
   "metadata": {},
   "outputs": [
    {
     "name": "stdout",
     "output_type": "stream",
     "text": [
      "[[1 2]\n",
      " [3 4]]\n",
      "\n",
      "[[ 5.5  -2.5 ]\n",
      " [-3.75  1.75]]\n",
      "\n"
     ]
    }
   ],
   "source": [
    "#POWER MATRIX\n",
    "\n",
    "var2 = np.matrix([[1,2],[3,4]])\n",
    "\n",
    "print(var2)\n",
    "print()\n",
    "\n",
    "print(np.linalg.matrix_power(var2,-2))\n",
    "print()\n"
   ]
  },
  {
   "cell_type": "code",
   "execution_count": 25,
   "metadata": {},
   "outputs": [
    {
     "name": "stdout",
     "output_type": "stream",
     "text": [
      "[[1 2]\n",
      " [3 4]]\n",
      "\n",
      "-2.0000000000000004\n",
      "\n"
     ]
    }
   ],
   "source": [
    "#DETERMINATE MATRIX\n",
    "\n",
    "#POWER MATRIX\n",
    "\n",
    "var2 = np.matrix([[1,2],[3,4]])\n",
    "\n",
    "print(var2)\n",
    "print()\n",
    "\n",
    "print(np.linalg.det(var2))\n",
    "print()\n"
   ]
  }
 ],
 "metadata": {
  "kernelspec": {
   "display_name": "Python 3",
   "language": "python",
   "name": "python3"
  },
  "language_info": {
   "codemirror_mode": {
    "name": "ipython",
    "version": 3
   },
   "file_extension": ".py",
   "mimetype": "text/x-python",
   "name": "python",
   "nbconvert_exporter": "python",
   "pygments_lexer": "ipython3",
   "version": "3.12.0"
  }
 },
 "nbformat": 4,
 "nbformat_minor": 2
}
