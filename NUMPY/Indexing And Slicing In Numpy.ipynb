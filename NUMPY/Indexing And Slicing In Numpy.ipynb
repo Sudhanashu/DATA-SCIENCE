{
 "cells": [
  {
   "cell_type": "code",
   "execution_count": 6,
   "metadata": {},
   "outputs": [
    {
     "name": "stdout",
     "output_type": "stream",
     "text": [
      "8\n",
      "8\n"
     ]
    }
   ],
   "source": [
    "#indexing\n",
    "\n",
    "import numpy as np\n",
    "\n",
    "var = np.array([9,8,7,6])\n",
    "   #            0,1,2,3     indexing starting from zero\n",
    "   #            -4,-3,-2,-1  indexing starting from -4 to -1\n",
    "\n",
    "print(var[1])\n",
    "print(var[-3])  \n"
   ]
  },
  {
   "cell_type": "code",
   "execution_count": 7,
   "metadata": {},
   "outputs": [
    {
     "name": "stdout",
     "output_type": "stream",
     "text": [
      "[[9 8 7]\n",
      " [4 5 6]]\n",
      "2\n",
      "\n",
      "8\n"
     ]
    }
   ],
   "source": [
    "var1 = np.array([[9,8,7],[4,5,6]])\n",
    "\n",
    "print(var1)\n",
    "print(var1.ndim)\n",
    "print()\n",
    "\n",
    "print(var1[0,1])"
   ]
  },
  {
   "cell_type": "code",
   "execution_count": 8,
   "metadata": {},
   "outputs": [
    {
     "name": "stdout",
     "output_type": "stream",
     "text": [
      "[[9 8 7]\n",
      " [4 5 6]]\n",
      "2\n",
      "\n",
      "7\n"
     ]
    }
   ],
   "source": [
    "var1 = np.array([[9,8,7],[4,5,6]])\n",
    "\n",
    "print(var1)\n",
    "print(var1.ndim)\n",
    "print()\n",
    "\n",
    "print(var1[0,2])"
   ]
  },
  {
   "cell_type": "code",
   "execution_count": 10,
   "metadata": {},
   "outputs": [
    {
     "name": "stdout",
     "output_type": "stream",
     "text": [
      "[[[1 2]\n",
      "  [6 7]]]\n",
      "3\n",
      "\n",
      "2\n"
     ]
    }
   ],
   "source": [
    "var2 = np.array([[[1,2],[6,7]]])\n",
    "\n",
    "print(var2)\n",
    "print(var2.ndim)\n",
    "print()\n",
    "\n",
    "print(var2[0,0,1])"
   ]
  },
  {
   "cell_type": "code",
   "execution_count": 9,
   "metadata": {},
   "outputs": [
    {
     "name": "stdout",
     "output_type": "stream",
     "text": [
      "[[[1 2]\n",
      "  [6 7]]]\n",
      "3\n",
      "\n",
      "7\n"
     ]
    }
   ],
   "source": [
    "var2 = np.array([[[1,2],[6,7]]])\n",
    "\n",
    "print(var2)\n",
    "print(var2.ndim)\n",
    "print()\n",
    "\n",
    "print(var2[0,1,1])"
   ]
  },
  {
   "cell_type": "code",
   "execution_count": 12,
   "metadata": {},
   "outputs": [
    {
     "name": "stdout",
     "output_type": "stream",
     "text": [
      "[1 2 3 4 5 6 7]\n",
      "\n",
      "2 to 5 :  [2 3 4 5]\n"
     ]
    }
   ],
   "source": [
    "#SLICING\n",
    "\n",
    "import numpy as np\n",
    "\n",
    "var = np.array([1,2,3,4,5,6,7])\n",
    "     #          0,1,2,3,4,5,6\n",
    "print(var)\n",
    "print()\n",
    "\n",
    "print(\"2 to 5 : \",var[1:5])"
   ]
  },
  {
   "cell_type": "code",
   "execution_count": 13,
   "metadata": {},
   "outputs": [
    {
     "name": "stdout",
     "output_type": "stream",
     "text": [
      "[1 2 3 4 5 6 7]\n",
      "\n",
      "2 to End :  [2 3 4 5 6 7]\n"
     ]
    }
   ],
   "source": [
    "#SLICING\n",
    "\n",
    "import numpy as np\n",
    "\n",
    "var = np.array([1,2,3,4,5,6,7])\n",
    "     #          0,1,2,3,4,5,6\n",
    "print(var)\n",
    "print()\n",
    "\n",
    "print(\"2 to End : \",var[1:])"
   ]
  },
  {
   "cell_type": "code",
   "execution_count": 14,
   "metadata": {},
   "outputs": [
    {
     "name": "stdout",
     "output_type": "stream",
     "text": [
      "[1 2 3 4 5 6 7]\n",
      "\n",
      "2 to 6 :  [2 4 6]\n"
     ]
    }
   ],
   "source": [
    "#SLICING\n",
    "\n",
    "import numpy as np\n",
    "\n",
    "var = np.array([1,2,3,4,5,6,7])\n",
    "     #          0,1,2,3,4,5,6\n",
    "print(var)\n",
    "print()\n",
    "\n",
    "print(\"2 to 6 : \",var[1:6:2])"
   ]
  },
  {
   "cell_type": "code",
   "execution_count": 15,
   "metadata": {},
   "outputs": [
    {
     "name": "stdout",
     "output_type": "stream",
     "text": [
      "[1 2 3 4 5 6 7]\n",
      "\n",
      "start to 5 :  [1 2 3 4 5]\n"
     ]
    }
   ],
   "source": [
    "#SLICING\n",
    "\n",
    "import numpy as np\n",
    "\n",
    "var = np.array([1,2,3,4,5,6,7])\n",
    "     #          0,1,2,3,4,5,6\n",
    "print(var)\n",
    "print()\n",
    "\n",
    "print(\"start to 5 : \",var[:5])"
   ]
  },
  {
   "cell_type": "code",
   "execution_count": 19,
   "metadata": {},
   "outputs": [
    {
     "name": "stdout",
     "output_type": "stream",
     "text": [
      "[[ 1  2  3  4  5]\n",
      " [ 9  8  7  6  5]\n",
      " [11 12 13 14 15]]\n",
      "\n",
      "8 to 5 : [8 7 6 5]\n"
     ]
    }
   ],
   "source": [
    "var1 = np.array([[1,2,3,4,5],[9,8,7,6,5],[11,12,13,14,15]])\n",
    "\n",
    "print(var1)\n",
    "print()\n",
    "\n",
    "print(\"8 to 5 :\",var1[1,1:])"
   ]
  }
 ],
 "metadata": {
  "kernelspec": {
   "display_name": "Python 3",
   "language": "python",
   "name": "python3"
  },
  "language_info": {
   "codemirror_mode": {
    "name": "ipython",
    "version": 3
   },
   "file_extension": ".py",
   "mimetype": "text/x-python",
   "name": "python",
   "nbconvert_exporter": "python",
   "pygments_lexer": "ipython3",
   "version": "3.12.0"
  }
 },
 "nbformat": 4,
 "nbformat_minor": 2
}
