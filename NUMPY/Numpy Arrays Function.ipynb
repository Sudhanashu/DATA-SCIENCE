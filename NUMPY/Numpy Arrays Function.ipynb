{
 "cells": [
  {
   "cell_type": "code",
   "execution_count": 2,
   "metadata": {},
   "outputs": [
    {
     "name": "stdout",
     "output_type": "stream",
     "text": [
      "(array([1, 5, 7], dtype=int64),)\n"
     ]
    }
   ],
   "source": [
    "#SEARCH\n",
    "\n",
    "import numpy as np\n",
    "\n",
    "var = np.array([1,2,3,4,5,2,7,2,9])\n",
    "#index          0,1,2,3,4,5,6,7,8\n",
    "\n",
    "x = np.where(var == 2)\n",
    "\n",
    "print(x)"
   ]
  },
  {
   "cell_type": "code",
   "execution_count": 5,
   "metadata": {},
   "outputs": [
    {
     "name": "stdout",
     "output_type": "stream",
     "text": [
      "(array([1, 3, 5, 7], dtype=int64),)\n"
     ]
    }
   ],
   "source": [
    "#SEARCH\n",
    "\n",
    "import numpy as np\n",
    "\n",
    "var = np.array([1,2,3,4,5,2,7,2,9])\n",
    "#index          0,1,2,3,4,5,6,7,8\n",
    "\n",
    "x = np.where((var%2) == 0)\n",
    "\n",
    "print(x)"
   ]
  },
  {
   "cell_type": "code",
   "execution_count": 11,
   "metadata": {},
   "outputs": [
    {
     "name": "stdout",
     "output_type": "stream",
     "text": [
      "7\n"
     ]
    }
   ],
   "source": [
    "#SEARCH SORTED ARRAY : which performs a binary search in the array, and returns the indices where the specified values would be inserted to maintain the search order\n",
    "\n",
    "import numpy as np\n",
    "\n",
    "var1 = np.array([1,2,3,4,2,7,2,9])\n",
    "#index          0,1,2,3,4,5,6,7\n",
    "\n",
    "x1 = np.searchsorted(var1, 5)\n",
    "\n",
    "print(x1)"
   ]
  },
  {
   "cell_type": "code",
   "execution_count": 12,
   "metadata": {},
   "outputs": [
    {
     "name": "stdout",
     "output_type": "stream",
     "text": [
      "[4 4 4]\n"
     ]
    }
   ],
   "source": [
    "var1 = np.array([1,2,3,4,9,10])\n",
    "\n",
    "x1 = np.searchsorted(var1, [5,6,7],side=\"right\")\n",
    "\n",
    "print(x1)"
   ]
  },
  {
   "cell_type": "code",
   "execution_count": 13,
   "metadata": {},
   "outputs": [
    {
     "name": "stdout",
     "output_type": "stream",
     "text": [
      "[ 1  2  3  4  5  6  7 12 22 52]\n"
     ]
    }
   ],
   "source": [
    "#SORT ARRAY: ordered sequence is any sequence that has an order corresponding to elements, like numeric or alphabetical,ascending or descending\n",
    "#SORT\n",
    "\n",
    "var_1 = np.array([4,2,3,1,12,5,22,52,6,7])\n",
    "\n",
    "print(np.sort(var_1))\n"
   ]
  },
  {
   "cell_type": "code",
   "execution_count": 14,
   "metadata": {},
   "outputs": [
    {
     "name": "stdout",
     "output_type": "stream",
     "text": [
      "['a' 'e' 'm' 'p' 'z']\n"
     ]
    }
   ],
   "source": [
    "var_1 = np.array([\"z\",\"p\",\"a\",\"m\",\"e\"])\n",
    "\n",
    "print(np.sort(var_1))"
   ]
  },
  {
   "cell_type": "code",
   "execution_count": 15,
   "metadata": {},
   "outputs": [
    {
     "name": "stdout",
     "output_type": "stream",
     "text": [
      "[[ 2  3  4]\n",
      " [ 1  5 12]\n",
      " [ 6 22 52]]\n"
     ]
    }
   ],
   "source": [
    "var_1 = np.array([[4,2,3],[1,12,5],[22,52,6]])  #sort function in 2-dimensional array\n",
    "\n",
    "print(np.sort(var_1))\n"
   ]
  },
  {
   "cell_type": "code",
   "execution_count": 21,
   "metadata": {},
   "outputs": [
    {
     "name": "stdout",
     "output_type": "stream",
     "text": [
      "['z' 'm']\n",
      "<class 'numpy.ndarray'>\n"
     ]
    }
   ],
   "source": [
    "#FILTER ARRAY:- Getting some elements out of an existing array and creating a new array out of them\n",
    "#FILTER ARRAY\n",
    "\n",
    "var_3 = np.array([\"z\",\"p\",\"a\",\"m\"])\n",
    "\n",
    "f = [True,False,False, True]\n",
    "\n",
    "new_a = var_3[f]\n",
    "\n",
    "print(new_a)\n",
    "print(type(new_a))"
   ]
  },
  {
   "cell_type": "code",
   "execution_count": 23,
   "metadata": {},
   "outputs": [
    {
     "name": "stdout",
     "output_type": "stream",
     "text": [
      "[3 2 4 1 5]\n"
     ]
    }
   ],
   "source": [
    "#SHUFFLE ARRAY\n",
    "\n",
    "import numpy as np\n",
    "\n",
    "var = np.array([1,2,3,4,5])\n",
    "\n",
    "np.random.shuffle(var)\n",
    "\n",
    "print(var)\n"
   ]
  },
  {
   "cell_type": "code",
   "execution_count": 28,
   "metadata": {},
   "outputs": [
    {
     "name": "stdout",
     "output_type": "stream",
     "text": [
      "[1 2 3 4 5 7 9]\n"
     ]
    }
   ],
   "source": [
    "#UNIQUE\n",
    "\n",
    "import numpy as np\n",
    "\n",
    "var = np.array([1,2,3,4,5,2,7,2,5,9])\n",
    "\n",
    "x = np.unique(var)\n",
    "\n",
    "print(x)"
   ]
  },
  {
   "cell_type": "code",
   "execution_count": 29,
   "metadata": {},
   "outputs": [
    {
     "name": "stdout",
     "output_type": "stream",
     "text": [
      "(array([1, 2, 3, 4, 5, 7, 9]), array([0, 1, 2, 3, 4, 6, 9], dtype=int64))\n"
     ]
    }
   ],
   "source": [
    "var1 = np.array([1,2,3,4,5,2,7,2,5,9])\n",
    "\n",
    "x = np.unique(var1,return_index=True)\n",
    "\n",
    "print(x)"
   ]
  },
  {
   "cell_type": "code",
   "execution_count": 30,
   "metadata": {},
   "outputs": [
    {
     "name": "stdout",
     "output_type": "stream",
     "text": [
      "(array([1, 2, 3, 4, 5, 7, 9]), array([0, 1, 2, 3, 4, 6, 9], dtype=int64), array([1, 3, 1, 1, 2, 1, 1], dtype=int64))\n"
     ]
    }
   ],
   "source": [
    "var1 = np.array([1,2,3,4,5,2,7,2,5,9])\n",
    "\n",
    "x = np.unique(var1,return_index=True,return_counts=True)\n",
    "\n",
    "print(x)"
   ]
  },
  {
   "cell_type": "code",
   "execution_count": 31,
   "metadata": {},
   "outputs": [
    {
     "name": "stdout",
     "output_type": "stream",
     "text": [
      "[[1 2 3]\n",
      " [4 5 6]]\n"
     ]
    }
   ],
   "source": [
    "#RESIZE\n",
    "\n",
    "var2 = np.array([1,2,3,4,5,6])\n",
    "\n",
    "y = np.resize(var2,(2,3))\n",
    "\n",
    "print(y)\n"
   ]
  },
  {
   "cell_type": "code",
   "execution_count": 33,
   "metadata": {},
   "outputs": [
    {
     "name": "stdout",
     "output_type": "stream",
     "text": [
      "[[1 2]\n",
      " [3 4]\n",
      " [5 6]]\n"
     ]
    }
   ],
   "source": [
    "#RESIZE\n",
    "\n",
    "var2 = np.array([1,2,3,4,5,6])\n",
    "\n",
    "y = np.resize(var2,(3,2))\n",
    "\n",
    "print(y)"
   ]
  },
  {
   "cell_type": "code",
   "execution_count": 34,
   "metadata": {},
   "outputs": [
    {
     "name": "stdout",
     "output_type": "stream",
     "text": [
      "[[1 2]\n",
      " [3 4]\n",
      " [5 6]]\n",
      "\n",
      "<built-in method flatten of numpy.ndarray object at 0x000002A1F19B4F90>\n"
     ]
    }
   ],
   "source": [
    "#FLATTEN\n",
    "\n",
    "var2 = np.array([1,2,3,4,5,6])\n",
    "\n",
    "y = np.resize(var2,(3,2))\n",
    "print(y)\n",
    "print()\n",
    "\n",
    "print(y.flatten)"
   ]
  },
  {
   "cell_type": "code",
   "execution_count": 35,
   "metadata": {},
   "outputs": [
    {
     "name": "stdout",
     "output_type": "stream",
     "text": [
      "[[1 2]\n",
      " [3 4]\n",
      " [5 6]]\n",
      "\n",
      "[1 3 5 2 4 6]\n"
     ]
    }
   ],
   "source": [
    "#FLATTEN\n",
    "\n",
    "var2 = np.array([1,2,3,4,5,6])\n",
    "\n",
    "y = np.resize(var2,(3,2))\n",
    "print(y)\n",
    "print()\n",
    "\n",
    "print(y.flatten(order=\"F\"))"
   ]
  },
  {
   "cell_type": "code",
   "execution_count": 36,
   "metadata": {},
   "outputs": [
    {
     "name": "stdout",
     "output_type": "stream",
     "text": [
      "[[1 2]\n",
      " [3 4]\n",
      " [5 6]]\n",
      "\n",
      "[1 2 3 4 5 6]\n"
     ]
    }
   ],
   "source": [
    "#FLATTEN\n",
    "\n",
    "var2 = np.array([1,2,3,4,5,6])\n",
    "\n",
    "y = np.resize(var2,(3,2))\n",
    "print(y)\n",
    "print()\n",
    "\n",
    "print(y.flatten(order=\"c\"))"
   ]
  },
  {
   "cell_type": "code",
   "execution_count": 37,
   "metadata": {},
   "outputs": [
    {
     "name": "stdout",
     "output_type": "stream",
     "text": [
      "[[1 2]\n",
      " [3 4]\n",
      " [5 6]]\n",
      "\n",
      "[1 3 5 2 4 6]\n"
     ]
    }
   ],
   "source": [
    "#RAVEL\n",
    "\n",
    "var2 = np.array([1,2,3,4,5,6])\n",
    "\n",
    "y = np.resize(var2,(3,2))\n",
    "print(y)\n",
    "print()\n",
    "\n",
    "print(y.ravel(order=\"F\"))"
   ]
  },
  {
   "cell_type": "code",
   "execution_count": 38,
   "metadata": {},
   "outputs": [
    {
     "name": "stdout",
     "output_type": "stream",
     "text": [
      "[[1 2]\n",
      " [3 4]\n",
      " [5 6]]\n",
      "\n",
      "<built-in method ravel of numpy.ndarray object at 0x000002A1F1269890>\n"
     ]
    }
   ],
   "source": [
    "#RAVEL\n",
    "\n",
    "var2 = np.array([1,2,3,4,5,6])\n",
    "\n",
    "y = np.resize(var2,(3,2))\n",
    "print(y)\n",
    "print()\n",
    "\n",
    "print(y.ravel)"
   ]
  },
  {
   "cell_type": "code",
   "execution_count": 39,
   "metadata": {},
   "outputs": [
    {
     "name": "stdout",
     "output_type": "stream",
     "text": [
      "[[1 2]\n",
      " [3 4]\n",
      " [5 6]]\n",
      "\n",
      "[1 2 3 4 5 6]\n"
     ]
    }
   ],
   "source": [
    "#RAVEL\n",
    "\n",
    "var2 = np.array([1,2,3,4,5,6])\n",
    "\n",
    "y = np.resize(var2,(3,2))\n",
    "print(y)\n",
    "print()\n",
    "\n",
    "print(y.ravel(order=\"k\"))"
   ]
  }
 ],
 "metadata": {
  "kernelspec": {
   "display_name": "Python 3",
   "language": "python",
   "name": "python3"
  },
  "language_info": {
   "codemirror_mode": {
    "name": "ipython",
    "version": 3
   },
   "file_extension": ".py",
   "mimetype": "text/x-python",
   "name": "python",
   "nbconvert_exporter": "python",
   "pygments_lexer": "ipython3",
   "version": "3.12.0"
  }
 },
 "nbformat": 4,
 "nbformat_minor": 2
}
