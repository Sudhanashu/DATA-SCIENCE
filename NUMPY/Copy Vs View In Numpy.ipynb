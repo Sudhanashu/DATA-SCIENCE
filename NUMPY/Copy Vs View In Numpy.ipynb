{
 "cells": [
  {
   "cell_type": "code",
   "execution_count": 3,
   "metadata": {},
   "outputs": [
    {
     "name": "stdout",
     "output_type": "stream",
     "text": [
      "var :  [ 1 40  3  4]\n",
      "copy :  [1 2 3 4]\n"
     ]
    }
   ],
   "source": [
    "#COPY\n",
    "import numpy as np\n",
    "\n",
    "var = np.array([1,2,3,4])\n",
    "\n",
    "co = var.copy()\n",
    "\n",
    "var[1]=40\n",
    "\n",
    "print(\"var : \",var)\n",
    "print(\"copy : \",co)"
   ]
  },
  {
   "cell_type": "code",
   "execution_count": 4,
   "metadata": {},
   "outputs": [
    {
     "name": "stdout",
     "output_type": "stream",
     "text": [
      "x :  [ 9 40  7  6  5]\n",
      "view :  [ 9 40  7  6  5]\n"
     ]
    }
   ],
   "source": [
    "#VIEW\n",
    "x = np.array([9,8,7,6,5])\n",
    "\n",
    "vi = x.view()\n",
    "\n",
    "x[1]=40\n",
    "\n",
    "print(\"x : \",x)\n",
    "print(\"view : \",vi)"
   ]
  },
  {
   "cell_type": "code",
   "execution_count": null,
   "metadata": {},
   "outputs": [],
   "source": [
    "#THE DIFFERENCE BETWEEN COPY AND VIEW\n",
    "\n",
    "#COPY\n",
    "#.the copy owns the data\n",
    "#.the copy of an array is a new array\n",
    "#.the change made in copy data does not reflect in the original array\n",
    "\n",
    "#VIEW\n",
    "#.the view does own the data\n",
    "#.a view of the original array\n",
    "#.any changes made to view will affect the original array and any changes made to the original array will affect the view"
   ]
  }
 ],
 "metadata": {
  "kernelspec": {
   "display_name": "Python 3",
   "language": "python",
   "name": "python3"
  },
  "language_info": {
   "codemirror_mode": {
    "name": "ipython",
    "version": 3
   },
   "file_extension": ".py",
   "mimetype": "text/x-python",
   "name": "python",
   "nbconvert_exporter": "python",
   "pygments_lexer": "ipython3",
   "version": "3.12.0"
  }
 },
 "nbformat": 4,
 "nbformat_minor": 2
}
