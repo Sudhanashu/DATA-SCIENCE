{
 "cells": [
  {
   "cell_type": "code",
   "execution_count": 1,
   "metadata": {},
   "outputs": [
    {
     "name": "stdout",
     "output_type": "stream",
     "text": [
      "[9 8 7 6 5 4]\n",
      "\n",
      "9\n",
      "8\n",
      "7\n",
      "6\n",
      "5\n",
      "4\n"
     ]
    }
   ],
   "source": [
    "#iteration in one-dimensional array\n",
    "import numpy as np\n",
    "\n",
    "var = np.array([9,8,7,6,5,4])\n",
    "print(var)\n",
    "print()\n",
    "\n",
    "for i in var :\n",
    "     print(i)"
   ]
  },
  {
   "cell_type": "code",
   "execution_count": 4,
   "metadata": {},
   "outputs": [
    {
     "name": "stdout",
     "output_type": "stream",
     "text": [
      "[[1 2 3 4]\n",
      " [5 6 7 8]]\n",
      "\n",
      "[1 2 3 4]\n",
      "[5 6 7 8]\n",
      "\n",
      "1\n",
      "2\n",
      "3\n",
      "4\n",
      "5\n",
      "6\n",
      "7\n",
      "8\n"
     ]
    }
   ],
   "source": [
    "#iteration in two-dimensional array\n",
    "var1 = np.array([[1,2,3,4],[5,6,7,8]])\n",
    "print(var1)\n",
    "print()\n",
    "\n",
    "for j in var1 :\n",
    "    print(j)\n",
    "\n",
    "print()\n",
    "\n",
    "for k in var1 :\n",
    "    for l in k :\n",
    "        print(l)"
   ]
  },
  {
   "cell_type": "code",
   "execution_count": 8,
   "metadata": {},
   "outputs": [
    {
     "name": "stdout",
     "output_type": "stream",
     "text": [
      "[[[1 2 3 4]\n",
      "  [1 2 3 4]]]\n",
      "3\n",
      "\n",
      "1\n",
      "2\n",
      "3\n",
      "4\n",
      "1\n",
      "2\n",
      "3\n",
      "4\n"
     ]
    }
   ],
   "source": [
    "#iteration in three-dimensional array\n",
    "\n",
    "var3 = np.array([[[1,2,3,4],[1,2,3,4]]])\n",
    "print(var3)\n",
    "print(var3.ndim)\n",
    "print()\n",
    "\n",
    "for i in var3:\n",
    "    for j in i:\n",
    "        for k in j:\n",
    "            print(k)\n"
   ]
  },
  {
   "cell_type": "code",
   "execution_count": 9,
   "metadata": {},
   "outputs": [
    {
     "name": "stdout",
     "output_type": "stream",
     "text": [
      "[[[9 8 7 6]\n",
      "  [1 2 3 4]]]\n",
      "3\n",
      "\n",
      "9\n",
      "8\n",
      "7\n",
      "6\n",
      "1\n",
      "2\n",
      "3\n",
      "4\n"
     ]
    }
   ],
   "source": [
    "#ITERATION in three-dimensional array THROUGH ITERATOR FUNCTION\n",
    "\n",
    "var3 = np.array([[[9,8,7,6],[1,2,3,4]]])\n",
    "print(var3)\n",
    "print(var3.ndim)\n",
    "print()\n",
    "\n",
    "for i in np.nditer(var3):\n",
    "    print(i)"
   ]
  },
  {
   "cell_type": "code",
   "execution_count": 16,
   "metadata": {},
   "outputs": [
    {
     "name": "stdout",
     "output_type": "stream",
     "text": [
      "[[[9 8 7 6]\n",
      "  [1 2 3 4]]]\n",
      "3\n",
      "\n",
      "b'9'\n",
      "b'8'\n",
      "b'7'\n",
      "b'6'\n",
      "b'1'\n",
      "b'2'\n",
      "b'3'\n",
      "b'4'\n"
     ]
    }
   ],
   "source": [
    "import numpy as np\n",
    "\n",
    "var3 = np.array([[[9, 8, 7, 6], [1, 2, 3, 4]]])\n",
    "print(var3)\n",
    "print(var3.ndim)\n",
    "print()\n",
    "\n",
    "for i in np.nditer(var3, flags=['buffered'], op_dtypes=['S']):\n",
    "    print(i)\n"
   ]
  },
  {
   "cell_type": "code",
   "execution_count": 18,
   "metadata": {},
   "outputs": [
    {
     "name": "stdout",
     "output_type": "stream",
     "text": [
      "[[[9 8 7 6]\n",
      "  [1 2 3 4]]]\n",
      "3\n",
      "\n",
      "(0, 0, 0) 9\n",
      "(0, 0, 1) 8\n",
      "(0, 0, 2) 7\n",
      "(0, 0, 3) 6\n",
      "(0, 1, 0) 1\n",
      "(0, 1, 1) 2\n",
      "(0, 1, 2) 3\n",
      "(0, 1, 3) 4\n"
     ]
    }
   ],
   "source": [
    "import numpy as np\n",
    "\n",
    "var3 = np.array([[[9, 8, 7, 6], [1, 2, 3, 4]]])\n",
    "print(var3)\n",
    "print(var3.ndim)\n",
    "print()\n",
    "\n",
    "for i,d in np.ndenumerate(var3):        #ndenumerate function is used to print elements along with its index\n",
    "    print(i,d)\n"
   ]
  }
 ],
 "metadata": {
  "kernelspec": {
   "display_name": "Python 3",
   "language": "python",
   "name": "python3"
  },
  "language_info": {
   "codemirror_mode": {
    "name": "ipython",
    "version": 3
   },
   "file_extension": ".py",
   "mimetype": "text/x-python",
   "name": "python",
   "nbconvert_exporter": "python",
   "pygments_lexer": "ipython3",
   "version": "3.12.0"
  }
 },
 "nbformat": 4,
 "nbformat_minor": 2
}
