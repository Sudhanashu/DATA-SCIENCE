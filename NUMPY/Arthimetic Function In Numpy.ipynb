{
 "cells": [
  {
   "cell_type": "code",
   "execution_count": 1,
   "metadata": {},
   "outputs": [
    {
     "name": "stdout",
     "output_type": "stream",
     "text": [
      "minimum : 1\n"
     ]
    }
   ],
   "source": [
    "#printing minimuum element of the array\n",
    "import numpy as np\n",
    "\n",
    "var = np.array([1,2,6,7,37,97,314])\n",
    "\n",
    "print(\"minimum :\", np.min(var))"
   ]
  },
  {
   "cell_type": "code",
   "execution_count": 2,
   "metadata": {},
   "outputs": [
    {
     "name": "stdout",
     "output_type": "stream",
     "text": [
      "minimum : 314\n"
     ]
    }
   ],
   "source": [
    "#printing maximum element of the array\n",
    "import numpy as np\n",
    "\n",
    "var = np.array([1,2,6,7,37,97,314])\n",
    "\n",
    "print(\"maximum :\", np.max(var))"
   ]
  },
  {
   "cell_type": "code",
   "execution_count": 5,
   "metadata": {},
   "outputs": [
    {
     "name": "stdout",
     "output_type": "stream",
     "text": [
      "minimum : -123 3\n"
     ]
    }
   ],
   "source": [
    "#printing minimum element of the array as well as the position of that minimum element\n",
    "import numpy as np\n",
    "\n",
    "var = np.array([2,1,6,-123,7,37,97,314])\n",
    "\n",
    "print(\"minimum :\", np.min(var), np.argmin(var))"
   ]
  },
  {
   "cell_type": "code",
   "execution_count": 6,
   "metadata": {},
   "outputs": [
    {
     "name": "stdout",
     "output_type": "stream",
     "text": [
      "maximum : 314 7\n"
     ]
    }
   ],
   "source": [
    "#printing maximum element of the array as well as the position of that maximum element\n",
    "import numpy as np\n",
    "\n",
    "var = np.array([2,1,6,-123,7,37,97,314])\n",
    "\n",
    "print(\"maximum :\", np.max(var), np.argmax(var))"
   ]
  },
  {
   "cell_type": "code",
   "execution_count": 9,
   "metadata": {},
   "outputs": [
    {
     "name": "stdout",
     "output_type": "stream",
     "text": [
      "[2 1 3]\n",
      "[1 5]\n"
     ]
    }
   ],
   "source": [
    "#printing maximum and minimum element of the array in 2-dimensional array\n",
    "#here we have to used axis as a parameter along with min or max function\n",
    "#axis=1 [for row operation means it will be used to check minimum and maximum elements of the array in row wise manner]\n",
    "#axis=0 [for column operation means it will be used to check minimum and maximum elements of the array in column wise manner]\n",
    "\n",
    "var1 = np.array([[2,1,3],[9,5,6]])\n",
    "\n",
    "print(np.min(var1,axis=0)) #printing minimum in column wise manner\n",
    "\n",
    "print(np.min(var1,axis=1))  #printing minimum in row wise manner"
   ]
  },
  {
   "cell_type": "code",
   "execution_count": 10,
   "metadata": {},
   "outputs": [
    {
     "name": "stdout",
     "output_type": "stream",
     "text": [
      "[9 5 6]\n"
     ]
    }
   ],
   "source": [
    "#printing maximum and minimum element of the array in 2-dimensional array\n",
    "#here we have to used axis as a parameter along with min or max function\n",
    "#axis=1 [for row operation means it will be used to check minimum and maximum elements of the array in row wise manner]\n",
    "#axis=0 [for column operation means it will be used to check minimum and maximum elements of the array in column wise manner]\n",
    "\n",
    "var1 = np.array([[2,1,3],[9,5,6]])\n",
    "\n",
    "print(np.max(var1,axis=0)) #printing maximum in column wise manner"
   ]
  },
  {
   "cell_type": "code",
   "execution_count": 11,
   "metadata": {},
   "outputs": [
    {
     "name": "stdout",
     "output_type": "stream",
     "text": [
      "[3 9]\n"
     ]
    }
   ],
   "source": [
    "#printing maximum and minimum element of the array in 2-dimensional array\n",
    "#here we have to used axis as a parameter along with min or max function\n",
    "#axis=1 [for row operation means it will be used to check minimum and maximum elements of the array in row wise manner]\n",
    "#axis=0 [for column operation means it will be used to check minimum and maximum elements of the array in column wise manner]\n",
    "\n",
    "var1 = np.array([[2,1,3],[9,5,6]])\n",
    "\n",
    "print(np.max(var1,axis=1)) #printing maximum in row wise manner"
   ]
  },
  {
   "cell_type": "code",
   "execution_count": 12,
   "metadata": {},
   "outputs": [
    {
     "name": "stdout",
     "output_type": "stream",
     "text": [
      "[1. 2. 3. 4. 5.]\n"
     ]
    }
   ],
   "source": [
    "#prinitng sqrt of elements of the array\n",
    "\n",
    "import numpy as np\n",
    "\n",
    "var = np.array([1,4,9,16,25])\n",
    "\n",
    "print(np.sqrt(var))"
   ]
  },
  {
   "cell_type": "code",
   "execution_count": 13,
   "metadata": {},
   "outputs": [
    {
     "name": "stdout",
     "output_type": "stream",
     "text": [
      "[ 0.84147098 -0.7568025   0.41211849 -0.28790332 -0.13235175]\n"
     ]
    }
   ],
   "source": [
    "#printning sine values of the each elements of the array\n",
    "\n",
    "import numpy as np\n",
    "\n",
    "var = np.array([1,4,9,16,25])\n",
    "\n",
    "print(np.sin(var))"
   ]
  },
  {
   "cell_type": "code",
   "execution_count": 14,
   "metadata": {},
   "outputs": [
    {
     "name": "stdout",
     "output_type": "stream",
     "text": [
      "[ 0.54030231 -0.65364362 -0.91113026 -0.95765948  0.99120281]\n"
     ]
    }
   ],
   "source": [
    "#printning cos values of the each elements of the array\n",
    "\n",
    "import numpy as np\n",
    "\n",
    "var = np.array([1,4,9,16,25])\n",
    "\n",
    "print(np.cos(var))"
   ]
  },
  {
   "cell_type": "code",
   "execution_count": 15,
   "metadata": {},
   "outputs": [
    {
     "name": "stdout",
     "output_type": "stream",
     "text": [
      "[ 1  5 14 30 55]\n"
     ]
    }
   ],
   "source": [
    "#printing cummulative(cum sum) sum of the elements of the array\n",
    "\n",
    "import numpy as np\n",
    "\n",
    "var = np.array([1,4,9,16,25])\n",
    "\n",
    "print(np.cumsum(var))"
   ]
  }
 ],
 "metadata": {
  "kernelspec": {
   "display_name": "Python 3",
   "language": "python",
   "name": "python3"
  },
  "language_info": {
   "codemirror_mode": {
    "name": "ipython",
    "version": 3
   },
   "file_extension": ".py",
   "mimetype": "text/x-python",
   "name": "python",
   "nbconvert_exporter": "python",
   "pygments_lexer": "ipython3",
   "version": "3.12.0"
  }
 },
 "nbformat": 4,
 "nbformat_minor": 2
}
