{
 "cells": [
  {
   "cell_type": "code",
   "execution_count": 1,
   "metadata": {},
   "outputs": [
    {
     "name": "stdout",
     "output_type": "stream",
     "text": [
      "[[1 2]\n",
      " [2 1]]\n",
      "\n",
      "(2, 2)\n"
     ]
    }
   ],
   "source": [
    "#shape\n",
    "\n",
    "import numpy as np\n",
    "\n",
    "var = np.array([[1,2],[2,1]])\n",
    "\n",
    "print(var)\n",
    "print()\n",
    "print(var.shape)\n"
   ]
  },
  {
   "cell_type": "code",
   "execution_count": 2,
   "metadata": {},
   "outputs": [
    {
     "name": "stdout",
     "output_type": "stream",
     "text": [
      "[[1 2 3 5]\n",
      " [2 1 7 8]]\n",
      "\n",
      "(2, 4)\n"
     ]
    }
   ],
   "source": [
    "#shape\n",
    "\n",
    "import numpy as np\n",
    "\n",
    "var = np.array([[1,2,3,5],[2,1,7,8]])\n",
    "\n",
    "print(var)\n",
    "print()\n",
    "print(var.shape)\n"
   ]
  },
  {
   "cell_type": "code",
   "execution_count": 6,
   "metadata": {},
   "outputs": [
    {
     "name": "stdout",
     "output_type": "stream",
     "text": [
      "[[[[[1 2 3 4 5]]]]]\n",
      "Dimension : 5\n"
     ]
    }
   ],
   "source": [
    "#converting 1-dimensional array into multi-dimensional array\n",
    "\n",
    "import numpy as np\n",
    "\n",
    "var = np.array([1,2,3,4,5],ndmin=5)\n",
    "\n",
    "print(var)\n",
    "print(\"Dimension :\", var.ndim)"
   ]
  },
  {
   "cell_type": "code",
   "execution_count": 12,
   "metadata": {},
   "outputs": [
    {
     "name": "stdout",
     "output_type": "stream",
     "text": [
      "[1 2 3 4 5 6]\n",
      "Dimension : 1\n",
      "\n",
      "[[1 2]\n",
      " [3 4]\n",
      " [5 6]]\n",
      "Dimension : 2\n"
     ]
    }
   ],
   "source": [
    "#reshape\n",
    "\n",
    "import numpy as np\n",
    "\n",
    "var = np.array([1,2,3,4,5,6])\n",
    "\n",
    "print(var)\n",
    "print(\"Dimension :\", var.ndim)\n",
    "print()\n",
    "\n",
    "x = var.reshape(3,2) #this reshape function will convert the above 1-dimensional array int 3*2 matrix\n",
    "\n",
    "print(x)\n",
    "print(\"Dimension :\", x.ndim)"
   ]
  },
  {
   "cell_type": "code",
   "execution_count": 14,
   "metadata": {},
   "outputs": [
    {
     "name": "stdout",
     "output_type": "stream",
     "text": [
      "[1 2 3 4 5 6 1 2 3]\n",
      "Dimension : 1\n",
      "\n",
      "[[1 2 3]\n",
      " [4 5 6]\n",
      " [1 2 3]]\n",
      "Dimension : 2\n"
     ]
    }
   ],
   "source": [
    "var3 = np.array([1,2,3,4,5,6,1,2,3])\n",
    "print(var3)\n",
    "print(\"Dimension :\", var3.ndim)\n",
    "\n",
    "print()\n",
    "\n",
    "x1 = var3.reshape(3,3)\n",
    "\n",
    "print(x1)\n",
    "\n",
    "print(\"Dimension :\", x1.ndim)"
   ]
  },
  {
   "cell_type": "code",
   "execution_count": 15,
   "metadata": {},
   "outputs": [
    {
     "name": "stdout",
     "output_type": "stream",
     "text": [
      "[ 1  2  3  4  5  6  7  8  9 10 11 12]\n",
      "1\n",
      "\n",
      "[[[ 1  2]\n",
      "  [ 3  4]\n",
      "  [ 5  6]]\n",
      "\n",
      " [[ 7  8]\n",
      "  [ 9 10]\n",
      "  [11 12]]]\n",
      "Dimension : 3\n"
     ]
    }
   ],
   "source": [
    "#conversion of one dimension array to 3-dimensional array\n",
    "var3 = np.array([1,2,3,4,5,6,7,8,9,10,11,12])\n",
    "print(var3)\n",
    "print(var3.ndim)\n",
    "\n",
    "print()\n",
    "\n",
    "x1 = var3.reshape(2,3,2)\n",
    "\n",
    "print(x1)\n",
    "\n",
    "print(\"Dimension :\", x1.ndim)"
   ]
  },
  {
   "cell_type": "code",
   "execution_count": 17,
   "metadata": {},
   "outputs": [
    {
     "name": "stdout",
     "output_type": "stream",
     "text": [
      "[ 1  2  3  4  5  6  7  8  9 10 11 12]\n",
      "1\n",
      "\n",
      "[[[ 1  2]\n",
      "  [ 3  4]\n",
      "  [ 5  6]]\n",
      "\n",
      " [[ 7  8]\n",
      "  [ 9 10]\n",
      "  [11 12]]]\n",
      "Dimension : 3\n",
      "\n",
      "[ 1  2  3  4  5  6  7  8  9 10 11 12]\n",
      "1\n",
      "Dimension : 1\n"
     ]
    }
   ],
   "source": [
    "#converison of 3-dimensional array into 1-dimensional array\n",
    "var3 = np.array([1,2,3,4,5,6,7,8,9,10,11,12])\n",
    "print(var3)\n",
    "print(var3.ndim)\n",
    "\n",
    "print()\n",
    "\n",
    "x1 = var3.reshape(2,3,2)\n",
    "\n",
    "print(x1)\n",
    "\n",
    "print(\"Dimension :\", x1.ndim)\n",
    "\n",
    "print()\n",
    "\n",
    "one = x1.reshape(-1)\n",
    "print(one)\n",
    "print(one.ndim)\n",
    "print(\"Dimension :\", one.ndim)\n"
   ]
  }
 ],
 "metadata": {
  "kernelspec": {
   "display_name": "Python 3",
   "language": "python",
   "name": "python3"
  },
  "language_info": {
   "codemirror_mode": {
    "name": "ipython",
    "version": 3
   },
   "file_extension": ".py",
   "mimetype": "text/x-python",
   "name": "python",
   "nbconvert_exporter": "python",
   "pygments_lexer": "ipython3",
   "version": "3.12.0"
  }
 },
 "nbformat": 4,
 "nbformat_minor": 2
}
