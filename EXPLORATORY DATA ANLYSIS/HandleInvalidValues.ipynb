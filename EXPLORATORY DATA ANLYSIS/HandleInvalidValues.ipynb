{
 "cells": [
  {
   "cell_type": "markdown",
   "metadata": {},
   "source": [
    "HANDLE INVALID VALUES:-"
   ]
  },
  {
   "cell_type": "code",
   "execution_count": 1,
   "metadata": {},
   "outputs": [],
   "source": [
    "# FOLLOWING ARE THE GENERAL INVALID VALUES TYPES:-\n",
    "\n",
    "#1.-> ENCODE UNICODE PROPERLY:- in case the data is being read as junk characters, \n",
    "#   try to change encoding E.g CP1252 instead of UTF-8\n",
    "\n",
    "#2.-> CONVERT INCORRECT DATA TYPES:- correct the incorrect data types to the correct data types for ease \n",
    "#    of analysis E.g- if numeric values are stored as strings, it would not  be possible to calculate the metrics\n",
    "#    such as mean, median etc\n",
    "\n",
    "#    some of the common data types corrections are - strings to number., \"12,300\" to \"12300\", string to date:\"2013-Aug\" to \"2013/08\"\n",
    "#    number to string: \"PIN CODE 110001\" to \" 110001\" etc\n",
    "\n",
    "#3.-> CORRECT VALUES THAT GO BEYOND RANGE:- if some of the values are beyond logical range. e.g temperature less than -273 degree celcius(0 kelvin) \n",
    "#     you would need to correct them as required\n",
    "\n",
    "#4.-> CORRECT WRONG STRUCTURES:- values that don't follow a defined structure can be removed\n",
    "#                                E.g:- in a dataset containing pin codes of indian cities. a pin code of 12 digits would be\n",
    "#                                      an invalid values and need to be removed, similarly a phone number of 12 digits would\n",
    "#                                      be an invalid value             "
   ]
  }
 ],
 "metadata": {
  "kernelspec": {
   "display_name": "Python 3",
   "language": "python",
   "name": "python3"
  },
  "language_info": {
   "codemirror_mode": {
    "name": "ipython",
    "version": 3
   },
   "file_extension": ".py",
   "mimetype": "text/x-python",
   "name": "python",
   "nbconvert_exporter": "python",
   "pygments_lexer": "ipython3",
   "version": "3.12.0"
  }
 },
 "nbformat": 4,
 "nbformat_minor": 2
}
