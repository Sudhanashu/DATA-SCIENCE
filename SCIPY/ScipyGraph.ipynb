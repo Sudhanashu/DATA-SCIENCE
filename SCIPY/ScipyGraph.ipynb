{
 "cells": [
  {
   "cell_type": "code",
   "execution_count": 1,
   "metadata": {},
   "outputs": [
    {
     "name": "stdout",
     "output_type": "stream",
     "text": [
      "(1, array([0, 0, 0]))\n"
     ]
    }
   ],
   "source": [
    "# Working with Graphd: we have a module named scipy.sparse.csgraph\n",
    "\n",
    "# Adjacency Matrix: nxn matrix where n is the number of element in the graph.\n",
    "\n",
    "# Connected Component:\n",
    "import numpy as np\n",
    "from scipy.sparse.csgraph import connected_components\n",
    "from scipy.sparse import csr_matrix\n",
    "var = np.array([[0,1,2],[1,0,0],[2,0,0]])\n",
    "var1 = csr_matrix(var)\n",
    "print(connected_components(var1))"
   ]
  },
  {
   "cell_type": "code",
   "execution_count": 2,
   "metadata": {},
   "outputs": [
    {
     "name": "stdout",
     "output_type": "stream",
     "text": [
      "(array([0., 1., 2.]), array([-9999,     0,     0]))\n"
     ]
    }
   ],
   "source": [
    "#DIJKSTRA'S METHOD: for finding the shortest path in a graph from one element to another\n",
    "# it take 2 arg: return_predecessors, indices, limit\n",
    "# here we will find shortes path from element 1 ro 2:\n",
    "import numpy as np\n",
    "from scipy.sparse.csgraph import dijkstra\n",
    "from scipy.sparse import csr_matrix\n",
    "var = np.array([[0,1,2],[1,0,0],[2,0,0]])\n",
    "var1 = csr_matrix(var)\n",
    "print(dijkstra(var1,return_predecessors=True, indices=0))"
   ]
  },
  {
   "cell_type": "code",
   "execution_count": 3,
   "metadata": {},
   "outputs": [
    {
     "name": "stdout",
     "output_type": "stream",
     "text": [
      "(array([[0., 1., 2.],\n",
      "       [1., 0., 3.],\n",
      "       [2., 3., 0.]]), array([[-9999,     0,     0],\n",
      "       [    1, -9999,     0],\n",
      "       [    2,     0, -9999]]))\n"
     ]
    }
   ],
   "source": [
    "# Floyd Warshall() method: it is for finding the shortest\n",
    "# path between all the pairs of elements.\n",
    "\n",
    "import numpy as np\n",
    "from scipy.sparse.csgraph import floyd_warshall\n",
    "from scipy.sparse import csr_matrix\n",
    "var = np.array([[0,1,2],[1,0,0],[2,0,0]])\n",
    "var1 = csr_matrix(var)\n",
    "print(floyd_warshall(var1,return_predecessors=True))"
   ]
  },
  {
   "cell_type": "code",
   "execution_count": 4,
   "metadata": {},
   "outputs": [
    {
     "name": "stdout",
     "output_type": "stream",
     "text": [
      "(array([0., 1., 2.]), array([-9999,     0,     0]))\n"
     ]
    }
   ],
   "source": [
    "# Bellman_ford() method: it is for finding the shortest path\n",
    "# between all the pairs of elements but this method can handle negative weight as well.\n",
    "\n",
    "import numpy as np\n",
    "from scipy.sparse.csgraph import bellman_ford\n",
    "from scipy.sparse import csr_matrix\n",
    "var = np.array([[0,1,2],[1,0,0],[2,0,0]])\n",
    "var1 = csr_matrix(var)\n",
    "print(bellman_ford(var1,return_predecessors=True, indices=0))"
   ]
  },
  {
   "cell_type": "code",
   "execution_count": 6,
   "metadata": {},
   "outputs": [
    {
     "name": "stdout",
     "output_type": "stream",
     "text": [
      "(array([1, 0, 3, 2]), array([    1, -9999,     1,     0]))\n"
     ]
    }
   ],
   "source": [
    "# Depth first order: it returns a depth first traversal from node: it has 2 argu: the graph, starting element\n",
    "\n",
    "import numpy as np\n",
    "from scipy.sparse.csgraph import depth_first_order\n",
    "from scipy.sparse import csr_matrix\n",
    "var = np.array([[0,1,0,1],[1,1,1,1],[2,1,1,0],[0,1,0,1]])\n",
    "var1 = csr_matrix(var)\n",
    "print(depth_first_order(var1, 1))"
   ]
  },
  {
   "cell_type": "code",
   "execution_count": 7,
   "metadata": {},
   "outputs": [
    {
     "name": "stdout",
     "output_type": "stream",
     "text": [
      "(array([1, 0, 2, 3]), array([    1, -9999,     1,     1]))\n"
     ]
    }
   ],
   "source": [
    "# Breadth first order: it returns a  firsbreadtht traversal from node: it has 2 argu: the graph, starting element\n",
    "\n",
    "import numpy as np\n",
    "from scipy.sparse.csgraph import breadth_first_order\n",
    "from scipy.sparse import csr_matrix\n",
    "var = np.array([[0,1,0,1],[1,1,1,1],[2,1,1,0],[0,1,0,1]])\n",
    "var1 = csr_matrix(var)\n",
    "print(breadth_first_order(var1, 1))"
   ]
  }
 ],
 "metadata": {
  "kernelspec": {
   "display_name": "Python 3",
   "language": "python",
   "name": "python3"
  },
  "language_info": {
   "codemirror_mode": {
    "name": "ipython",
    "version": 3
   },
   "file_extension": ".py",
   "mimetype": "text/x-python",
   "name": "python",
   "nbconvert_exporter": "python",
   "pygments_lexer": "ipython3",
   "version": "3.12.0"
  }
 },
 "nbformat": 4,
 "nbformat_minor": 2
}
