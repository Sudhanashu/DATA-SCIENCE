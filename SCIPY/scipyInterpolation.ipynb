{
 "cells": [
  {
   "cell_type": "code",
   "execution_count": 2,
   "metadata": {},
   "outputs": [
    {
     "name": "stdout",
     "output_type": "stream",
     "text": [
      "[5.2 5.4 5.6 5.8 6.  6.2 6.4 6.6 6.8]\n"
     ]
    }
   ],
   "source": [
    "# What is Interpolation: it is a method for generating points between\n",
    "# the given points. and the method of filling the values is called imputation.\n",
    "\n",
    "# Now how we can implement it in scipy.? - via module scipy.interpolate\n",
    "# 1D interpolation: interp1d()\n",
    "# here for given xs and ys interpolate values from 2.1,2.2,2.3......2.9:\n",
    "from scipy.interpolate import interp1d\n",
    "import numpy as np\n",
    "xs = np.arange(10)\n",
    "ys = 2*xs + 1\n",
    "interp_func = interp1d(xs, ys)\n",
    "var = interp_func(np.arange(2.1, 3, 0.1))\n",
    "print(var)"
   ]
  },
  {
   "cell_type": "code",
   "execution_count": 4,
   "metadata": {},
   "outputs": [
    {
     "name": "stdout",
     "output_type": "stream",
     "text": [
      "[5.62826474 6.03987348 6.47131994 6.92265019 7.3939103  7.88514634\n",
      " 8.39640439 8.92773053 9.47917082]\n"
     ]
    }
   ],
   "source": [
    "# spline interpolation:\n",
    "# example: here now we will find the univariate spline interpolation for 2.1,2.2,2.3.......2.9\n",
    "\n",
    "from scipy.interpolate import UnivariateSpline\n",
    "import numpy as np\n",
    "xs = np.arange(10)\n",
    "ys = xs**2 + np.sin(xs) + 1\n",
    "\n",
    "interp_func = UnivariateSpline(xs, ys)\n",
    "var = interp_func(np.arange(2.1, 3, 0.1))\n",
    "print(var)"
   ]
  },
  {
   "cell_type": "code",
   "execution_count": 5,
   "metadata": {},
   "outputs": [
    {
     "name": "stdout",
     "output_type": "stream",
     "text": [
      "[6.25748981 6.62190817 7.00310702 7.40121814 7.8161443  8.24773402\n",
      " 8.69590519 9.16070828 9.64233874]\n"
     ]
    }
   ],
   "source": [
    "# Interpolation with Radial basis Functon(RBF)\n",
    "\n",
    "from scipy.interpolate import Rbf\n",
    "import numpy as np\n",
    "xs = np.arange(10)\n",
    "ys = xs**2 + np.sin(xs) + 1\n",
    "\n",
    "interp_func = Rbf(xs, ys)\n",
    "var = interp_func(np.arange(2.1, 3, 0.1))\n",
    "print(var)"
   ]
  }
 ],
 "metadata": {
  "kernelspec": {
   "display_name": "Python 3",
   "language": "python",
   "name": "python3"
  },
  "language_info": {
   "codemirror_mode": {
    "name": "ipython",
    "version": 3
   },
   "file_extension": ".py",
   "mimetype": "text/x-python",
   "name": "python",
   "nbconvert_exporter": "python",
   "pygments_lexer": "ipython3",
   "version": "3.12.0"
  }
 },
 "nbformat": 4,
 "nbformat_minor": 2
}
