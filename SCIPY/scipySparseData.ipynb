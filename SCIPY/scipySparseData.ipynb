{
 "cells": [
  {
   "cell_type": "code",
   "execution_count": null,
   "metadata": {},
   "outputs": [],
   "source": [
    "#WHAT IS SPARSE DATA: Sparse data is the data that has mostly unused\n",
    "# elements. like the elements that do not carry any information.\n",
    "# sparse data example [1,0,2,0,0,3,0,0,0,0,0,4]\n",
    "# Dense Arrray: [2,5,6,7,8,9,10,11,12,13,3,6]"
   ]
  },
  {
   "cell_type": "code",
   "execution_count": null,
   "metadata": {},
   "outputs": [],
   "source": [
    "# How to work with Sparse Data.\n",
    "# scipy has a module scipy.sparse function. there are 2\n",
    "# matrices in this sparse: CSC(compressed sparse column)\n",
    "# and CSR(compressed sparse Row)"
   ]
  },
  {
   "cell_type": "code",
   "execution_count": 1,
   "metadata": {},
   "outputs": [
    {
     "name": "stdout",
     "output_type": "stream",
     "text": [
      "  (0, 5)\t1\n",
      "  (0, 6)\t1\n",
      "  (0, 8)\t2\n"
     ]
    }
   ],
   "source": [
    "# CSR MATRICES: here we will create a CSR matrics from an array:\n",
    "\n",
    "import numpy as np\n",
    "from scipy.sparse import csr_matrix\n",
    "var = np.array([0,0,0,0,0,1,1,0,2])\n",
    "print(csr_matrix(var))"
   ]
  },
  {
   "cell_type": "code",
   "execution_count": 2,
   "metadata": {},
   "outputs": [
    {
     "name": "stdout",
     "output_type": "stream",
     "text": [
      "[1 1 2]\n"
     ]
    }
   ],
   "source": [
    "# Sparse matrix Methods\n",
    "\n",
    "import numpy as np\n",
    "from scipy.sparse import csr_matrix\n",
    "var = np.array([[0,0,0],[0,0,1],[1,0,2]])\n",
    "print(csr_matrix(var).data)"
   ]
  },
  {
   "cell_type": "code",
   "execution_count": 3,
   "metadata": {},
   "outputs": [
    {
     "name": "stdout",
     "output_type": "stream",
     "text": [
      "3\n"
     ]
    }
   ],
   "source": [
    "# What if we want to count nonzerros, we can do this via count_nonzero() method\n",
    "\n",
    "import numpy as np\n",
    "from scipy.sparse import csr_matrix\n",
    "var = np.array([[0,0,0],[0,0,1],[1,0,2]])\n",
    "print(csr_matrix(var).count_nonzero())"
   ]
  },
  {
   "cell_type": "code",
   "execution_count": 4,
   "metadata": {},
   "outputs": [
    {
     "name": "stdout",
     "output_type": "stream",
     "text": [
      "  (1, 2)\t1\n",
      "  (2, 0)\t1\n",
      "  (2, 2)\t2\n"
     ]
    }
   ],
   "source": [
    "# For removing the zero elements from the matrix we will use eliminate_zeros()\n",
    "\n",
    "import numpy as np\n",
    "from scipy.sparse import csr_matrix\n",
    "var = np.array([[0,0,0],[0,0,1],[1,0,2]])\n",
    "var1=csr_matrix(var)\n",
    "var1.eliminate_zeros()\n",
    "print(var1)\n"
   ]
  },
  {
   "cell_type": "code",
   "execution_count": 5,
   "metadata": {},
   "outputs": [
    {
     "name": "stdout",
     "output_type": "stream",
     "text": [
      "  (1, 2)\t1\n",
      "  (2, 0)\t1\n",
      "  (2, 2)\t2\n"
     ]
    }
   ],
   "source": [
    "# Eliminating duplicates entries with the sum_duplicates() method:\n",
    "\n",
    "import numpy as np\n",
    "from scipy.sparse import csr_matrix\n",
    "var = np.array([[0,0,0],[0,0,1],[1,0,2]])\n",
    "var1=csr_matrix(var)\n",
    "var1.sum_duplicates()\n",
    "print(var1)"
   ]
  },
  {
   "cell_type": "code",
   "execution_count": 6,
   "metadata": {},
   "outputs": [
    {
     "name": "stdout",
     "output_type": "stream",
     "text": [
      "  (2, 0)\t1\n",
      "  (1, 2)\t1\n",
      "  (2, 2)\t2\n"
     ]
    }
   ],
   "source": [
    "# Here we will convert csr to csc with tocsc():\n",
    "\n",
    "import numpy as np\n",
    "from scipy.sparse import csr_matrix\n",
    "var = np.array([[0,0,0],[0,0,1],[1,0,2]])\n",
    "var1 = csr_matrix(var).tocsc()\n",
    "print(var1)"
   ]
  }
 ],
 "metadata": {
  "kernelspec": {
   "display_name": "Python 3",
   "language": "python",
   "name": "python3"
  },
  "language_info": {
   "codemirror_mode": {
    "name": "ipython",
    "version": 3
   },
   "file_extension": ".py",
   "mimetype": "text/x-python",
   "name": "python",
   "nbconvert_exporter": "python",
   "pygments_lexer": "ipython3",
   "version": "3.12.0"
  }
 },
 "nbformat": 4,
 "nbformat_minor": 2
}
